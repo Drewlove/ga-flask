{
 "cells": [
  {
   "cell_type": "markdown",
   "metadata": {},
   "source": [
    "# Decorators!\n",
    "\n",
    "- Decorators modify functions or classes\n",
    "- Great alternative to metaclasses (an abstract definition of how classes can behave!)\n",
    "- Easily apply arbitrary transformations on data pre or post function\n",
    "- Used for routes in Flask"
   ]
  },
  {
   "cell_type": "markdown",
   "metadata": {},
   "source": [
    "### Decorators as functions"
   ]
  },
  {
   "cell_type": "code",
   "execution_count": 46,
   "metadata": {},
   "outputs": [],
   "source": [
    "def scale_100x(target_function):\n",
    "\n",
    "    def wrapper(*args):\n",
    "\n",
    "        print(\"This is being called BEFORE target_function() is called.\")\n",
    "\n",
    "        numbers = target_function(*args)\n",
    "        return [n * 100 for n in numbers]\n",
    "\n",
    "        \n",
    "    print(\"This is being called AFTER wrapper() is called.\")\n",
    "    return wrapper\n"
   ]
  },
  {
   "cell_type": "code",
   "execution_count": 47,
   "metadata": {},
   "outputs": [
    {
     "name": "stdout",
     "output_type": "stream",
     "text": [
      "This is being called AFTER wrapper() is called.\n",
      "This is being called BEFORE target_function() is called.\n"
     ]
    },
    {
     "data": {
      "text/plain": [
       "[100, 300, 500, 700, 900]"
      ]
     },
     "execution_count": 47,
     "metadata": {},
     "output_type": "execute_result"
    }
   ],
   "source": [
    "# A very fun function that finds odd numbers\n",
    "@scale_100x\n",
    "def find_odd(numbers, extra=False):\n",
    "    return [num for num in numbers if num % 2]\n",
    "\n",
    "find_odd([1,2,3,4,5,6,7,8,9,10])"
   ]
  },
  {
   "cell_type": "markdown",
   "metadata": {},
   "source": [
    "### Decorators as classes"
   ]
  },
  {
   "cell_type": "code",
   "execution_count": 48,
   "metadata": {},
   "outputs": [],
   "source": [
    "class scale_100x(object):\n",
    "\n",
    "    def __init__(self, target_function):\n",
    "        self.target_function = target_function\n",
    "        \n",
    "    def __call__(self, *args):\n",
    "        print(\"Entering\", self.target_function.__name__)\n",
    "        return [n * 100 for n in self.target_function(*args)]\n",
    "        "
   ]
  },
  {
   "cell_type": "code",
   "execution_count": 49,
   "metadata": {},
   "outputs": [
    {
     "name": "stdout",
     "output_type": "stream",
     "text": [
      "Entering find_odd\n"
     ]
    },
    {
     "data": {
      "text/plain": [
       "[100, 300, 500, 700, 900]"
      ]
     },
     "execution_count": 49,
     "metadata": {},
     "output_type": "execute_result"
    }
   ],
   "source": [
    "@scale_100x\n",
    "def find_odd(numbers):\n",
    "    return [num for num in numbers if num % 2]\n",
    "\n",
    "find_odd([1,2,3,4,5,6,7,8,9,10])"
   ]
  }
 ],
 "metadata": {
  "kernelspec": {
   "display_name": "Python 3",
   "language": "python",
   "name": "python3"
  },
  "language_info": {
   "codemirror_mode": {
    "name": "ipython",
    "version": 3
   },
   "file_extension": ".py",
   "mimetype": "text/x-python",
   "name": "python",
   "nbconvert_exporter": "python",
   "pygments_lexer": "ipython3",
   "version": "3.6.2"
  }
 },
 "nbformat": 4,
 "nbformat_minor": 2
}
